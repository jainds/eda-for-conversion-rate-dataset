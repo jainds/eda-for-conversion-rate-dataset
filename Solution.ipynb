{
 "cells": [
  {
   "cell_type": "code",
   "execution_count": 1,
   "metadata": {
    "collapsed": true
   },
   "outputs": [],
   "source": [
    "import pandas as pd\n",
    "import numpy as np\n",
    "\n",
    "df= pd.read_csv('./data/conversion_data.csv')"
   ]
  },
  {
   "cell_type": "code",
   "execution_count": 2,
   "metadata": {},
   "outputs": [
    {
     "data": {
      "text/html": [
       "<div>\n",
       "<style>\n",
       "    .dataframe thead tr:only-child th {\n",
       "        text-align: right;\n",
       "    }\n",
       "\n",
       "    .dataframe thead th {\n",
       "        text-align: left;\n",
       "    }\n",
       "\n",
       "    .dataframe tbody tr th {\n",
       "        vertical-align: top;\n",
       "    }\n",
       "</style>\n",
       "<table border=\"1\" class=\"dataframe\">\n",
       "  <thead>\n",
       "    <tr style=\"text-align: right;\">\n",
       "      <th></th>\n",
       "      <th>country</th>\n",
       "      <th>age</th>\n",
       "      <th>new_user</th>\n",
       "      <th>source</th>\n",
       "      <th>total_pages_visited</th>\n",
       "      <th>converted</th>\n",
       "    </tr>\n",
       "  </thead>\n",
       "  <tbody>\n",
       "    <tr>\n",
       "      <th>0</th>\n",
       "      <td>UK</td>\n",
       "      <td>25</td>\n",
       "      <td>1</td>\n",
       "      <td>Ads</td>\n",
       "      <td>1</td>\n",
       "      <td>0</td>\n",
       "    </tr>\n",
       "    <tr>\n",
       "      <th>1</th>\n",
       "      <td>US</td>\n",
       "      <td>23</td>\n",
       "      <td>1</td>\n",
       "      <td>Seo</td>\n",
       "      <td>5</td>\n",
       "      <td>0</td>\n",
       "    </tr>\n",
       "    <tr>\n",
       "      <th>2</th>\n",
       "      <td>US</td>\n",
       "      <td>28</td>\n",
       "      <td>1</td>\n",
       "      <td>Seo</td>\n",
       "      <td>4</td>\n",
       "      <td>0</td>\n",
       "    </tr>\n",
       "    <tr>\n",
       "      <th>3</th>\n",
       "      <td>China</td>\n",
       "      <td>39</td>\n",
       "      <td>1</td>\n",
       "      <td>Seo</td>\n",
       "      <td>5</td>\n",
       "      <td>0</td>\n",
       "    </tr>\n",
       "    <tr>\n",
       "      <th>4</th>\n",
       "      <td>US</td>\n",
       "      <td>30</td>\n",
       "      <td>1</td>\n",
       "      <td>Seo</td>\n",
       "      <td>6</td>\n",
       "      <td>0</td>\n",
       "    </tr>\n",
       "  </tbody>\n",
       "</table>\n",
       "</div>"
      ],
      "text/plain": [
       "  country  age  new_user source  total_pages_visited  converted\n",
       "0      UK   25         1    Ads                    1          0\n",
       "1      US   23         1    Seo                    5          0\n",
       "2      US   28         1    Seo                    4          0\n",
       "3   China   39         1    Seo                    5          0\n",
       "4      US   30         1    Seo                    6          0"
      ]
     },
     "execution_count": 2,
     "metadata": {},
     "output_type": "execute_result"
    }
   ],
   "source": [
    "df.head()"
   ]
  },
  {
   "cell_type": "code",
   "execution_count": 2,
   "metadata": {
    "collapsed": true
   },
   "outputs": [],
   "source": [
    "df.country = df.country.astype('category')\n",
    "df.new_user = df.new_user.astype('category')\n",
    "df['source']= df['source'].astype('category')\n",
    "df['converted'] = df['converted'].astype('category')"
   ]
  },
  {
   "cell_type": "code",
   "execution_count": 3,
   "metadata": {
    "collapsed": true
   },
   "outputs": [],
   "source": [
    "def get_categorical_variables(df):\n",
    "    return df.select_dtypes(['category']).columns"
   ]
  },
  {
   "cell_type": "code",
   "execution_count": 106,
   "metadata": {
    "collapsed": true
   },
   "outputs": [],
   "source": [
    "def get_numerical_variables(df):\n",
    "    return df.select_dtypes(['int64']).columns"
   ]
  },
  {
   "cell_type": "code",
   "execution_count": 61,
   "metadata": {
    "collapsed": true
   },
   "outputs": [],
   "source": [
    "def get_numerical_variables_percentile(df):\n",
    "    df1 = pd.DataFrame(index =[0,1], columns=['Variable name','mean','median','25th percentile','50th percentile','75th percentile'])\n",
    "    df1['Variable name'][0] = \"age\"\n",
    "    df1['mean'][0]= df.age.mean()\n",
    "    df1['median'][0]=df.age.median()\n",
    "    df1['25th percentile'][0]=df.age.quantile(q=0.25)\n",
    "    df1['50th percentile'][0]=df.age.quantile(q=0.50)\n",
    "    df1['75th percentile'][0]=df.age.quantile(q=0.75)\n",
    "    df1['Variable name'][1] = \"total_pages_visited\"\n",
    "    df1['mean'][1]= df.total_pages_visited.mean()\n",
    "    df1['median'][1]=df.total_pages_visited.median()\n",
    "    df1['25th percentile'][1]=df.total_pages_visited.quantile(q=0.25)\n",
    "    df1['50th percentile'][1]=df.total_pages_visited.quantile(q=0.50)\n",
    "    df1['75th percentile'][1]=df.total_pages_visited.quantile(q=0.75)\n",
    "    return df1\n"
   ]
  },
  {
   "cell_type": "code",
   "execution_count": 26,
   "metadata": {
    "collapsed": true
   },
   "outputs": [],
   "source": [
    "def get_categorical_variables_modes(df):\n",
    "    df1 = pd.DataFrame(index =df.select_dtypes(['category']).columns, columns=['mode'])\n",
    "    df1.loc['country']=df.country.mode()[0]\n",
    "    df1.loc['new_user']=df.new_user.mode()[0]\n",
    "    df1.loc['source']=df.source.mode()[0]\n",
    "    df1.loc['converted']=df.converted.mode()[0]\n",
    "    return df1.to_dict()\n",
    "    "
   ]
  },
  {
   "cell_type": "code",
   "execution_count": 61,
   "metadata": {
    "collapsed": true
   },
   "outputs": [],
   "source": [
    "def get_missing_values_count(df):\n",
    "    df1 = pd.DataFrame(index = df.columns, columns = ['missing_value_count'])\n",
    "    for key,value in enumerate(df.columns):\n",
    "        df1.loc[value] = df[value].isnull().sum()\n",
    "    df1.reset_index(inplace=True)\n",
    "    df1.rename(columns ={'index':'var_name'},inplace=True)\n",
    "    return df1\n",
    "    \n"
   ]
  },
  {
   "cell_type": "code",
   "execution_count": 116,
   "metadata": {},
   "outputs": [],
   "source": [
    "def plot_histogram_with_numerical_values(df , col):\n",
    "    import seaborn as sns\n",
    "    import matplotlib.pyplot as plt\n",
    "    from scipy.stats import norm\n",
    "    fig, axes = plt.subplots(len(col), 1, figsize= (15 ,10) )\n",
    "    for key,val in enumerate(col):\n",
    "        plt.subplot(len(col),1,key+1)\n",
    "        sns.distplot(df[val],fit=norm,kde=False)\n",
    "    plt.show()\n",
    "    return plt.show()\n",
    "    \n"
   ]
  },
  {
   "cell_type": "code",
   "execution_count": 121,
   "metadata": {
    "collapsed": true
   },
   "outputs": [],
   "source": [
    "def plot_facet_box(df, col):\n",
    "    import seaborn as sns\n",
    "    import matplotlib.pyplot as plt\n",
    "    from scipy.stats import norm\n",
    "    fig, axes = plt.subplots(len(col), 1, figsize= (15 ,10) )\n",
    "    for key,val in enumerate(col):\n",
    "        plt.subplot(len(col),1,key+1)\n",
    "        sns.boxplot(df[val])\n",
    "    plt.show()\n",
    "    return plt.show()\n"
   ]
  },
  {
   "cell_type": "code",
   "execution_count": 123,
   "metadata": {},
   "outputs": [
    {
     "data": {
      "image/png": "[encoded data removed]",
      "text/plain": [
       "<matplotlib.figure.Figure at 0xd2f22f0>"
      ]
     },
     "metadata": {},
     "output_type": "display_data"
    }
   ],
   "source": [
    "plot_facet_box(df , get_numerical_variables(df))"
   ]
  },
  {
   "cell_type": "code",
   "execution_count": null,
   "metadata": {
    "collapsed": true
   },
   "outputs": [],
   "source": []
  }
 ],
 "metadata": {
  "kernelspec": {
   "display_name": "Python 2",
   "language": "python",
   "name": "python2"
  },
  "language_info": {
   "codemirror_mode": {
    "name": "ipython",
    "version": 2
   },
   "file_extension": ".py",
   "mimetype": "text/x-python",
   "name": "python",
   "nbconvert_exporter": "python",
   "pygments_lexer": "ipython2",
   "version": "2.7.13"
  }
 },
 "nbformat": 4,
 "nbformat_minor": 2
}
